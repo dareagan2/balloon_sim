{
 "cells": [
  {
   "cell_type": "markdown",
   "id": "e33aef7b",
   "metadata": {},
   "source": [
    "## ERA5 Exploratory Analysis\n",
    "\n",
    "This notebook explores the ERA5 dataset. \n",
    "\n",
    "ADD DETAILS"
   ]
  },
  {
   "cell_type": "markdown",
   "id": "0cf6dbab",
   "metadata": {},
   "source": [
    "### Setting up CDS API to access ERA5 data: \n",
    "1. Register for an account (free) at https://cds.climate.copernicus.eu/\n",
    "2. Follow the instructions here to setup access to the API: https://cds.climate.copernicus.eu/how-to-api"
   ]
  },
  {
   "cell_type": "markdown",
   "id": "50d4b9ca",
   "metadata": {},
   "source": []
  }
 ],
 "metadata": {
  "kernelspec": {
   "display_name": ".venv",
   "language": "python",
   "name": "python3"
  },
  "language_info": {
   "codemirror_mode": {
    "name": "ipython",
    "version": 3
   },
   "file_extension": ".py",
   "mimetype": "text/x-python",
   "name": "python",
   "nbconvert_exporter": "python",
   "pygments_lexer": "ipython3",
   "version": "3.10.11"
  }
 },
 "nbformat": 4,
 "nbformat_minor": 5
}
